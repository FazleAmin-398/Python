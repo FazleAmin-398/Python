{
 "cells": [
  {
   "cell_type": "markdown",
   "id": "5a5d51cb",
   "metadata": {},
   "source": [
    "# ##TASK 01"
   ]
  },
  {
   "cell_type": "markdown",
   "id": "0f5eba98",
   "metadata": {},
   "source": [
    "Question 01: Write a for loop that calculates the sum of numbers from 1 to 10."
   ]
  },
  {
   "cell_type": "code",
   "execution_count": 5,
   "id": "82e6871c",
   "metadata": {},
   "outputs": [
    {
     "name": "stdout",
     "output_type": "stream",
     "text": [
      "the sum of numbers from 1 to 10 is: 55\n"
     ]
    }
   ],
   "source": [
    "total_num=0\n",
    "for i in range(1,11):\n",
    "    total_num=total_num+i\n",
    "print(\"the sum of numbers from 1 to 10 is:\",total_num)"
   ]
  },
  {
   "cell_type": "markdown",
   "id": "87525123",
   "metadata": {},
   "source": [
    "Question 02: Print the items of the list [“Python”, “Numpy”, “Pandas”] in reverse order \n",
    "using a for loop"
   ]
  },
  {
   "cell_type": "code",
   "execution_count": 6,
   "id": "58f152de",
   "metadata": {},
   "outputs": [
    {
     "name": "stdout",
     "output_type": "stream",
     "text": [
      "the reverse order of given list is: ['Pandas', 'Numpy', 'Pyhton']\n"
     ]
    }
   ],
   "source": [
    "my_list=[\"Pyhton\",\"Numpy\",\"Pandas\"]\n",
    "my_list.reverse()\n",
    "print(\"the reverse order of given list is:\",my_list)"
   ]
  },
  {
   "cell_type": "markdown",
   "id": "fb019b4a",
   "metadata": {},
   "source": [
    "# # TASK 02"
   ]
  },
  {
   "cell_type": "markdown",
   "id": "54c00e0d",
   "metadata": {},
   "source": [
    "Question 01: Implement a guessing game with a while loop where the user has to \n",
    "guess a set number (e.g., 3). The loop terminates once the user guesses correctly."
   ]
  },
  {
   "cell_type": "code",
   "execution_count": null,
   "id": "0211fc0d",
   "metadata": {},
   "outputs": [],
   "source": [
    "correct_num=3\n",
    "while True:\n",
    "    guess_num=int(input(\"Guess the number:\"))\n",
    "    if guess_num==correct_num:\n",
    "        print(\"congrats you have guess correct number\")\n",
    "        break\n",
    "    else:    \n",
    "        print(\"sorry!incorrect guess number\")\n"
   ]
  },
  {
   "cell_type": "markdown",
   "id": "ed34267f",
   "metadata": {},
   "source": [
    "Question 02: Write a while loop that asks for user input and adds it to a list. Exit the \n",
    "loop when the user types \"done\"."
   ]
  },
  {
   "cell_type": "code",
   "execution_count": 4,
   "id": "c36c4249",
   "metadata": {},
   "outputs": [
    {
     "name": "stdout",
     "output_type": "stream",
     "text": [
      "Enter a value:khan\n",
      "Enter a value:shinwari \n",
      "Enter a value:Amin \n",
      "Enter a value:qurban\n",
      "Enter a value:done\n"
     ]
    },
    {
     "data": {
      "text/plain": [
       "['khan', 'shinwari ', 'Amin ', 'qurban']"
      ]
     },
     "execution_count": 4,
     "metadata": {},
     "output_type": "execute_result"
    }
   ],
   "source": [
    "# Initialize an empty list to store user inputs\n",
    "user_inputs=[]\n",
    "while True:\n",
    "      # Ask for user input\n",
    "    user_input=input(\"Enter a value:\")\n",
    "    if user_input==\"done\":\n",
    "        break\n",
    "        #add user input in empty list \n",
    "    user_inputs.append(user_input)\n",
    "#print list added items\n",
    "user_inputs\n"
   ]
  },
  {
   "cell_type": "markdown",
   "id": "fd11101e",
   "metadata": {},
   "source": [
    "# TASK 03"
   ]
  },
  {
   "cell_type": "markdown",
   "id": "5410caca",
   "metadata": {},
   "source": [
    "Question 01: Write a function that prints all even numbers between 1 and 20."
   ]
  },
  {
   "cell_type": "code",
   "execution_count": 12,
   "id": "71cac1a4",
   "metadata": {},
   "outputs": [
    {
     "name": "stdout",
     "output_type": "stream",
     "text": [
      "2\n",
      "4\n",
      "6\n",
      "8\n",
      "10\n",
      "12\n",
      "14\n",
      "16\n",
      "18\n"
     ]
    }
   ],
   "source": [
    "def even_num():\n",
    "    for num in range(1,20):\n",
    "        if num%2==0:\n",
    "            print(num)\n",
    "even_num()\n",
    "    \n",
    "    "
   ]
  },
  {
   "cell_type": "markdown",
   "id": "3c8514d1",
   "metadata": {},
   "source": [
    "Question 02: Write a function that takes a list and a number as arguments and returns"
   ]
  },
  {
   "cell_type": "code",
   "execution_count": 14,
   "id": "1aa6918a",
   "metadata": {},
   "outputs": [
    {
     "name": "stdout",
     "output_type": "stream",
     "text": [
      "15\n"
     ]
    }
   ],
   "source": [
    "def add_numbers(num1,num2):\n",
    "    sum = num1 + num2\n",
    "    return sum \n",
    "#call function\n",
    "result = add_numbers(5, 10)\n",
    "print(result)"
   ]
  },
  {
   "cell_type": "markdown",
   "id": "fc87dc08",
   "metadata": {},
   "source": [
    "Question 03: Write a function calculator that takes three arguments: two numbers and an \n",
    "operation (as a string, e.g., \"add\", \"subtract\", \"multiply\", \"divide\") and returns the result \n",
    "of the operation"
   ]
  },
  {
   "cell_type": "code",
   "execution_count": null,
   "id": "ce5c4600",
   "metadata": {},
   "outputs": [],
   "source": [
    "def calculator(x,y,operation):\n",
    "    if operation==\"add\":\n",
    "        return x+y\n",
    "    elif operation==\"subtract\":\n",
    "        return x-y\n",
    "    elif operation==\"multiply\":\n",
    "        return x*y\n",
    "    elif operation==\"divide\":\n",
    "        if y!=0:\n",
    "            return x/y\n",
    "        else:\n",
    "            print(\"cannot divide by zero\")\n",
    "    else:\n",
    "        return \"invalid operation\"\n",
    "result=calculator(2,2,\"add\")\n",
    "print(\"Add Result:\",result)\n",
    "result=calculator(2,2,\"subtract\")\n",
    "print(\"Subtract Result:\",result)\n",
    "result=calculator(2,2,\"multiply\")\n",
    "print(\"Multiplication Result:\",result)\n",
    "result=calculator(2,2,\"divide\")\n",
    "print(\"division Result:\",result"
   ]
  },
  {
   "cell_type": "markdown",
   "id": "b1e867ed",
   "metadata": {},
   "source": [
    "Question 04: Write a function that takes a list of numbers and returns the maximum \n",
    "number in the list?\n"
   ]
  },
  {
   "cell_type": "code",
   "execution_count": 20,
   "id": "a623ab1f",
   "metadata": {},
   "outputs": [
    {
     "name": "stdout",
     "output_type": "stream",
     "text": [
      "Maximum number: 20\n"
     ]
    }
   ],
   "source": [
    "def find_maximum(numbers):\n",
    "    return max(numbers)\n",
    "\n",
    "# Example usage:\n",
    "numbers_list = [10, 5, 20, 15, 8]\n",
    "max_num = find_maximum(numbers_list)\n",
    "print(\"Maximum number:\", max_num)"
   ]
  },
  {
   "cell_type": "markdown",
   "id": "f9889a08",
   "metadata": {},
   "source": [
    "Question 05: Create a lambda function that takes two numbers and returns their product"
   ]
  },
  {
   "cell_type": "code",
   "execution_count": 22,
   "id": "efedf885",
   "metadata": {},
   "outputs": [
    {
     "name": "stdout",
     "output_type": "stream",
     "text": [
      "prouduct of5 and 10 is:  50\n"
     ]
    }
   ],
   "source": [
    "product=lambda a,b:a*b\n",
    "result=product(5,10)\n",
    "print(\"prouduct of 5 and 10 is: \",result)\n",
    "\n"
   ]
  },
  {
   "cell_type": "markdown",
   "id": "342b530b",
   "metadata": {},
   "source": [
    "Question 06: Write a function that takes a list and returns a new list containing only the \n",
    "even numbers from the original list."
   ]
  },
  {
   "cell_type": "code",
   "execution_count": 33,
   "id": "1db3e769",
   "metadata": {},
   "outputs": [
    {
     "name": "stdout",
     "output_type": "stream",
     "text": [
      "even number is  [2, 4, 6, 8, 10]\n"
     ]
    }
   ],
   "source": [
    "def even_num(number):\n",
    "    even_list=[]\n",
    "    for num in number:\n",
    "        if num%2==0:\n",
    "            even_list.append(num)\n",
    "    return even_list\n",
    "list=[1,2,3,4,5,6,7,8,9,10]\n",
    "Even_number=even_num(list)\n",
    "print(\"even number is \",Even_number)"
   ]
  },
  {
   "cell_type": "code",
   "execution_count": null,
   "id": "6196aae7",
   "metadata": {},
   "outputs": [],
   "source": []
  },
  {
   "cell_type": "code",
   "execution_count": null,
   "id": "08ecc555",
   "metadata": {},
   "outputs": [],
   "source": []
  }
 ],
 "metadata": {
  "kernelspec": {
   "display_name": "Python 3 (ipykernel)",
   "language": "python",
   "name": "python3"
  },
  "language_info": {
   "codemirror_mode": {
    "name": "ipython",
    "version": 3
   },
   "file_extension": ".py",
   "mimetype": "text/x-python",
   "name": "python",
   "nbconvert_exporter": "python",
   "pygments_lexer": "ipython3",
   "version": "3.11.4"
  }
 },
 "nbformat": 4,
 "nbformat_minor": 5
}
