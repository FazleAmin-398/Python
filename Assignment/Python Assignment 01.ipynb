{
 "cells": [
  {
   "attachments": {},
   "cell_type": "markdown",
   "id": "39180063",
   "metadata": {},
   "source": [
    "# Task 1"
   ]
  },
  {
   "cell_type": "code",
   "execution_count": null,
   "id": "7ec2d83c",
   "metadata": {},
   "outputs": [],
   "source": [
    "a) Create three variables: one for storing your age (integer), one for your name (string), and one\n",
    "to check if you are a student (Boolean). Print the variables."
   ]
  },
  {
   "cell_type": "code",
   "execution_count": 14,
   "id": "d7a25784",
   "metadata": {},
   "outputs": [
    {
     "name": "stdout",
     "output_type": "stream",
     "text": [
      "age 13\n",
      "name khan\n",
      "Student true\n"
     ]
    }
   ],
   "source": [
    "age=13\n",
    "name='khan'\n",
    "is_student='true'\n",
    "print(\"age\",age)\n",
    "print(\"name\",name)\n",
    "print(\"Student\",is_student)"
   ]
  },
  {
   "cell_type": "markdown",
   "id": "29ddeb42",
   "metadata": {},
   "source": [
    "b)Perform the following operations and print the results: - Add 25 to your age variable. -\n",
    "Concatenate your name with the string \"Smith.\" - Negate the Boolean variable (if True, make it\n",
    "False, and vice versa)."
   ]
  },
  {
   "cell_type": "code",
   "execution_count": 15,
   "id": "61f5be66",
   "metadata": {},
   "outputs": [
    {
     "name": "stdout",
     "output_type": "stream",
     "text": [
      "age after adding 25: 41\n",
      "Name after adding smith khanSmith\n",
      "student status False\n"
     ]
    }
   ],
   "source": [
    "age=16\n",
    "name='khan'\n",
    "is_student='true'\n",
    "name=name+\"Smith\"\n",
    "age=age+25\n",
    "is_student = not is_student\n",
    "print(\"age after adding 25:\",age)\n",
    "print(\"Name after adding smith\",name)\n",
    "print(\"student status\",is_student)"
   ]
  },
  {
   "cell_type": "markdown",
   "id": "e61594c9",
   "metadata": {},
   "source": [
    "# Task 2"
   ]
  },
  {
   "cell_type": "markdown",
   "id": "f3dc48af",
   "metadata": {},
   "source": [
    "a) Create a string variable called \"sentence\" containing the sentence \"Python is a powerful\n",
    "programming language.\" Print the sentence."
   ]
  },
  {
   "cell_type": "code",
   "execution_count": 16,
   "id": "57ef96d7",
   "metadata": {},
   "outputs": [
    {
     "data": {
      "text/plain": [
       "'python is powerful'"
      ]
     },
     "execution_count": 16,
     "metadata": {},
     "output_type": "execute_result"
    }
   ],
   "source": [
    "sentence=\"python is powerful\"\n",
    "sentence"
   ]
  },
  {
   "cell_type": "markdown",
   "id": "756510c8",
   "metadata": {},
   "source": [
    "b)Count the number of characters in the \"sentence\" and print the result."
   ]
  },
  {
   "cell_type": "code",
   "execution_count": 17,
   "id": "26bf2324",
   "metadata": {},
   "outputs": [
    {
     "name": "stdout",
     "output_type": "stream",
     "text": [
      "18\n"
     ]
    }
   ],
   "source": [
    "print(len(sentence))"
   ]
  },
  {
   "cell_type": "markdown",
   "id": "65f58350",
   "metadata": {},
   "source": [
    "c) Check if the word \"Python\" is present in the \"sentence\" and print the result (True/False)."
   ]
  },
  {
   "cell_type": "code",
   "execution_count": 20,
   "id": "0eba5e10",
   "metadata": {},
   "outputs": [
    {
     "name": "stdout",
     "output_type": "stream",
     "text": [
      "Python is present in sentence True\n"
     ]
    }
   ],
   "source": [
    "is_present='python'in sentence\n",
    "print(\"Python is present in sentence\",is_present)"
   ]
  },
  {
   "cell_type": "markdown",
   "id": "a349eb31",
   "metadata": {},
   "source": [
    "d)Replace the word \"powerful\" with \"versatile\" in the \"sentence\" and print the updated\n",
    "sentence."
   ]
  },
  {
   "cell_type": "code",
   "execution_count": 21,
   "id": "15f576dd",
   "metadata": {},
   "outputs": [
    {
     "data": {
      "text/plain": [
       "'python is versatile'"
      ]
     },
     "execution_count": 21,
     "metadata": {},
     "output_type": "execute_result"
    }
   ],
   "source": [
    "updated_string=sentence.replace(\"powerful\",\"versatile\")\n",
    "updated_string"
   ]
  },
  {
   "cell_type": "markdown",
   "id": "2a0be439",
   "metadata": {},
   "source": [
    "Split the \"sentence\" into a list of words and print the list."
   ]
  },
  {
   "cell_type": "code",
   "execution_count": 23,
   "id": "df713319",
   "metadata": {
    "scrolled": true
   },
   "outputs": [
    {
     "data": {
      "text/plain": [
       "['python', 'is', 'powerful']"
      ]
     },
     "execution_count": 23,
     "metadata": {},
     "output_type": "execute_result"
    }
   ],
   "source": [
    "list=sentence.split()\n",
    "list"
   ]
  },
  {
   "cell_type": "markdown",
   "id": "a4183928",
   "metadata": {},
   "source": []
  },
  {
   "cell_type": "markdown",
   "id": "45702447",
   "metadata": {},
   "source": [
    "\n",
    "# Task 3"
   ]
  },
  {
   "cell_type": "markdown",
   "id": "d0b88080",
   "metadata": {},
   "source": [
    "a) A rectangle has a width of 5.5 units and a height of 3.25 units. Store width and height in\n",
    "variables. Create a new variable called area and write an expression to calculate the area. Print\n",
    "the area in the output."
   ]
  },
  {
   "cell_type": "code",
   "execution_count": 24,
   "id": "5a61cd66",
   "metadata": {},
   "outputs": [
    {
     "name": "stdout",
     "output_type": "stream",
     "text": [
      "Area of rectangle is: 17.875\n"
     ]
    }
   ],
   "source": [
    "height=3.25\n",
    "width=5.5\n",
    "rectangle_area=height*width\n",
    "print(\"Area of rectangle is:\",rectangle_area)"
   ]
  },
  {
   "cell_type": "markdown",
   "id": "6144cd91",
   "metadata": {},
   "source": [
    "b) Create a temperature variable in Celsius. Convert it to Fahrenheit using the formula: F = (C *\n",
    "9/5) + 32. Store this temperature in a variable called Fahrenheit and print this variable."
   ]
  },
  {
   "cell_type": "code",
   "execution_count": 29,
   "id": "0ddacc06",
   "metadata": {},
   "outputs": [
    {
     "name": "stdout",
     "output_type": "stream",
     "text": [
      "36 is equal in fahrenheit is: 96.8\n"
     ]
    }
   ],
   "source": [
    "celcius=36\n",
    "Fahrenheit = (celcius*9/5) + 32\n",
    "print(celcius,\"is equal in fahrenheit is:\",Fahrenheit)\n"
   ]
  },
  {
   "cell_type": "markdown",
   "id": "7b4919a3",
   "metadata": {},
   "source": [
    "a) Create a variable called radius and give it a value of 5. Calculate the area of a circle with this radius\n",
    "and store it in a variable called area. Print area at the end of your code. (Use the formula: area =\n",
    "π * radius^2, where π (pi) is approximately 3.14159)."
   ]
  },
  {
   "cell_type": "code",
   "execution_count": 28,
   "id": "79cbe540",
   "metadata": {},
   "outputs": [
    {
     "name": "stdout",
     "output_type": "stream",
     "text": [
      "the area of circle is: 78.53975\n"
     ]
    }
   ],
   "source": [
    "radius=5\n",
    "area=3.14159*radius**2\n",
    "print(\"the area of circle is:\",area)"
   ]
  },
  {
   "cell_type": "markdown",
   "id": "783d0626",
   "metadata": {},
   "source": [
    "# Task 4"
   ]
  },
  {
   "cell_type": "markdown",
   "id": "d83881a3",
   "metadata": {},
   "source": [
    "a) Create a list called \"fruits\" containing the following fruits: \"apple,\" \"banana,\" \"orange,\"\n",
    "\"grape,\" and \"kiwi.\" Print the list."
   ]
  },
  {
   "cell_type": "code",
   "execution_count": 30,
   "id": "3322e45a",
   "metadata": {},
   "outputs": [
    {
     "data": {
      "text/plain": [
       "['apple', 'banana', 'orange', 'grape', 'kiwi']"
      ]
     },
     "execution_count": 30,
     "metadata": {},
     "output_type": "execute_result"
    }
   ],
   "source": [
    "fruits=[\"apple\",\"banana\",\"orange\",\"grape\",\"kiwi\"]\n",
    "fruits"
   ]
  },
  {
   "cell_type": "markdown",
   "id": "13c5bcd5",
   "metadata": {},
   "source": [
    "b) Create another list called \"vegetables\" containing the following vegetables: \"carrot,\" \"lettuce,\"\n",
    "\"tomato,\" \"broccoli,\" and \"spinach.\" Print the list."
   ]
  },
  {
   "cell_type": "code",
   "execution_count": 31,
   "id": "e37c4eaf",
   "metadata": {},
   "outputs": [
    {
     "data": {
      "text/plain": [
       "['carrot', 'lettuce', 'tomato', 'broccoli', 'spincah']"
      ]
     },
     "execution_count": 31,
     "metadata": {},
     "output_type": "execute_result"
    }
   ],
   "source": [
    "vegetables=[\"carrot\",\"lettuce\",\"tomato\",\"broccoli\",\"spincah\"]\n",
    "vegetables"
   ]
  },
  {
   "cell_type": "markdown",
   "id": "3ca7cf05",
   "metadata": {},
   "source": [
    "c) Concatenate the \"fruits\" list with the \"vegetables\" list and store the result in a new list called\n",
    "\"groceries\". Print the \"groceries\" list.\n",
    "d) Sort the \"groceries\" list in alphabetical order and print it.\n",
    "e)Remove the \"banana\" from the \"fruits\" list and print the updated \"fruits\" list."
   ]
  },
  {
   "cell_type": "code",
   "execution_count": 57,
   "id": "940011eb",
   "metadata": {},
   "outputs": [
    {
     "name": "stdout",
     "output_type": "stream",
     "text": [
      "result of two list is: ['apple', 'banana', 'orange', 'grape', 'kiwi', 'carrot', 'lettuce', 'tomato', 'broccoli', 'spincah']\n",
      "Sorted groceries list: ['apple', 'banana', 'broccoli', 'carrot', 'grape', 'kiwi', 'lettuce', 'orange', 'spincah', 'tomato']\n",
      "fruitlist is updated ['apple', 'orange', 'grape', 'kiwi']\n"
     ]
    }
   ],
   "source": [
    "fruits=[\"apple\",\"banana\",\"orange\",\"grape\",\"kiwi\"]\n",
    "vegetables=[\"carrot\",\"lettuce\",\"tomato\",\"broccoli\",\"spincah\"]\n",
    "groceries=fruits+vegetables\n",
    "print(\"result of two list is:\",groceries)\n",
    "sorted_groceries = sorted(groceries)\n",
    "#sorted List\n",
    "print(\"Sorted groceries list:\", sorted_groceries)\n",
    "fruits.remove(\"banana\")\n",
    "#remove banana\n",
    "print(\"fruitlist is updated\",fruits)"
   ]
  },
  {
   "cell_type": "markdown",
   "id": "51ddec20",
   "metadata": {},
   "source": [
    "# Tuple"
   ]
  },
  {
   "cell_type": "code",
   "execution_count": 67,
   "id": "8c521f36",
   "metadata": {},
   "outputs": [
    {
     "data": {
      "text/plain": [
       "('red', 'yellow', 'green')"
      ]
     },
     "execution_count": 67,
     "metadata": {},
     "output_type": "execute_result"
    }
   ],
   "source": [
    "# a) Create a tuple named \"colors\" with the names of three colors of your choice. Print the tuple.\n",
    "color=(\"red\",\"yellow\",\"green\")\n",
    "color\n",
    "\n"
   ]
  },
  {
   "cell_type": "code",
   "execution_count": 68,
   "id": "066b1c4c",
   "metadata": {},
   "outputs": [
    {
     "data": {
      "text/plain": [
       "'yellow'"
      ]
     },
     "execution_count": 68,
     "metadata": {},
     "output_type": "execute_result"
    }
   ],
   "source": [
    "# b) Access the second element of the \"colors\" tuple and print it.\n",
    "color[1]"
   ]
  },
  {
   "cell_type": "code",
   "execution_count": 72,
   "id": "847329e2",
   "metadata": {},
   "outputs": [
    {
     "data": {
      "text/plain": [
       "('red', 'yellow', 'green', 'january', 'february', 'march')"
      ]
     },
     "execution_count": 72,
     "metadata": {},
     "output_type": "execute_result"
    }
   ],
   "source": [
    "months=(\"january\",\"february\",\"march\")\n",
    "combine_tuple=color+months\n",
    "combine_tuple"
   ]
  },
  {
   "cell_type": "code",
   "execution_count": null,
   "id": "a7c4ada5",
   "metadata": {},
   "outputs": [],
   "source": []
  }
 ],
 "metadata": {
  "kernelspec": {
   "display_name": "Python 3 (ipykernel)",
   "language": "python",
   "name": "python3"
  },
  "language_info": {
   "codemirror_mode": {
    "name": "ipython",
    "version": 3
   },
   "file_extension": ".py",
   "mimetype": "text/x-python",
   "name": "python",
   "nbconvert_exporter": "python",
   "pygments_lexer": "ipython3",
   "version": "3.11.4"
  }
 },
 "nbformat": 4,
 "nbformat_minor": 5
}
